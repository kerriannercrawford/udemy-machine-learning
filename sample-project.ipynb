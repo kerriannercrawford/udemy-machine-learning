{
 "cells": [
  {
   "cell_type": "markdown",
   "source": [
    "# Sample Machine Learning Project"
   ],
   "metadata": {
    "collapsed": false
   }
  },
  {
   "cell_type": "markdown",
   "source": [
    "![](./Screenshot%202023-06-25%20at%205.39.10%20PM.png)"
   ],
   "metadata": {
    "collapsed": false
   }
  },
  {
   "cell_type": "markdown",
   "source": [
    "## Steps in a Full Machine Learning Project\n",
    "- Data Collection\n",
    "- Data Modeling\n",
    "- Deployment\n",
    "\n",
    "### Data Modeling\n",
    "1. Problem definition\n",
    "2. Data\n",
    "3. Evaluation\n",
    "4. Features\n",
    "5. Modeling\n",
    "6. Experiments\n",
    "\n",
    "## 1. Problem Definition\n",
    "What problem are we trying to solve?\n",
    "\n",
    "## 2. Data\n",
    "What data do we have?\n",
    "\n",
    "## 3. Evaluation\n",
    "What defines success?\n",
    "\n",
    "## 4. Features\n",
    "What features should we model?\n",
    "\n",
    "## 5. Modeling\n",
    "What kind of model should we use?\n",
    "\n",
    "## 6. Experiments\n",
    "What have we tried? What else can we try?"
   ],
   "metadata": {
    "collapsed": false
   }
  },
  {
   "cell_type": "code",
   "execution_count": null,
   "outputs": [],
   "source": [],
   "metadata": {
    "collapsed": false
   }
  }
 ],
 "metadata": {
  "kernelspec": {
   "display_name": "Python 3 (ipykernel)",
   "language": "python",
   "name": "python3"
  },
  "language_info": {
   "codemirror_mode": {
    "name": "ipython",
    "version": 3
   },
   "file_extension": ".py",
   "mimetype": "text/x-python",
   "name": "python",
   "nbconvert_exporter": "python",
   "pygments_lexer": "ipython3",
   "version": "3.11.4"
  }
 },
 "nbformat": 4,
 "nbformat_minor": 5
}
